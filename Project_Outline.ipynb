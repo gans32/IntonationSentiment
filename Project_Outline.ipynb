{
 "cells": [
  {
   "cell_type": "markdown",
   "id": "d9342cdd",
   "metadata": {},
   "source": [
    "# Project Outline: A Corpus Search for Intonation Patterns in British and American English"
   ]
  },
  {
   "cell_type": "markdown",
   "id": "735948f7",
   "metadata": {},
   "source": [
    "## The IViE Corpus: Source for British English Data\n",
    "\n",
    "* Developed by Esther Grabe et al. \n",
    "* Speech data from seven cities in the UK and Ireland, recorded in the 1990's\n",
    "    * Belfast\n",
    "    * Bradford\n",
    "    * Cambridge\n",
    "    * Dublin\n",
    "    * Leeds\n",
    "    * London\n",
    "    * Newcastle\n",
    "    \n",
    "* Data Includes:\n",
    "    * Elicited sentences\n",
    "    * Free conversation\n",
    "    * Map labeling task\n",
    "    * Read passage (Cinderella)\n",
    "    * Spontaneous summary of the read passage"
   ]
  },
  {
   "cell_type": "markdown",
   "id": "1015b6f6",
   "metadata": {},
   "source": [
    "## The Santa Barbara Corpus of Spoken American English: Source for American English Data\n",
    "\n"
   ]
  }
 ],
 "metadata": {
  "kernelspec": {
   "display_name": "Python 3 (ipykernel)",
   "language": "python",
   "name": "python3"
  },
  "language_info": {
   "codemirror_mode": {
    "name": "ipython",
    "version": 3
   },
   "file_extension": ".py",
   "mimetype": "text/x-python",
   "name": "python",
   "nbconvert_exporter": "python",
   "pygments_lexer": "ipython3",
   "version": "3.9.13"
  }
 },
 "nbformat": 4,
 "nbformat_minor": 5
}
