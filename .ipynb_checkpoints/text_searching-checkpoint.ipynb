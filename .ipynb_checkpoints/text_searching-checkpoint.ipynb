{
 "cells": [
  {
   "cell_type": "markdown",
   "id": "178287bd",
   "metadata": {},
   "source": [
    "# Text Searching"
   ]
  },
  {
   "cell_type": "markdown",
   "id": "7ac1db94",
   "metadata": {},
   "source": [
    "### EViE Stuff"
   ]
  },
  {
   "cell_type": "code",
   "execution_count": null,
   "id": "e274a7e0",
   "metadata": {},
   "outputs": [],
   "source": []
  }
 ],
 "metadata": {
  "kernelspec": {
   "display_name": "Python 3 (ipykernel)",
   "language": "python",
   "name": "python3"
  },
  "language_info": {
   "codemirror_mode": {
    "name": "ipython",
    "version": 3
   },
   "file_extension": ".py",
   "mimetype": "text/x-python",
   "name": "python",
   "nbconvert_exporter": "python",
   "pygments_lexer": "ipython3",
   "version": "3.9.13"
  }
 },
 "nbformat": 4,
 "nbformat_minor": 5
}
